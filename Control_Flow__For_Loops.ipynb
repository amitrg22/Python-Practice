{
  "nbformat": 4,
  "nbformat_minor": 0,
  "metadata": {
    "colab": {
      "name": "Control Flow_ For_Loops.ipynb",
      "provenance": [],
      "collapsed_sections": []
    },
    "kernelspec": {
      "name": "python3",
      "display_name": "Python 3"
    },
    "language_info": {
      "name": "python"
    }
  },
  "cells": [
    {
      "cell_type": "markdown",
      "metadata": {
        "id": "AK3G8oEvpYtl"
      },
      "source": [
        "### Python For Loops"
      ]
    },
    {
      "cell_type": "code",
      "metadata": {
        "colab": {
          "base_uri": "https://localhost:8080/"
        },
        "id": "l23Ch0LzpjTw",
        "outputId": "628b7852-dac5-40cf-b483-7a05926a3ef3"
      },
      "source": [
        "#Iteration over a list\n",
        "print(\"List Iteration\")\n",
        "l = [\"A\", \"B\", \"C\"]\n",
        "for i in l:\n",
        "  print(i)\n"
      ],
      "execution_count": 2,
      "outputs": [
        {
          "output_type": "stream",
          "text": [
            "List Iteration\n",
            "A\n",
            "B\n",
            "C\n"
          ],
          "name": "stdout"
        }
      ]
    },
    {
      "cell_type": "code",
      "metadata": {
        "colab": {
          "base_uri": "https://localhost:8080/"
        },
        "id": "E8RvgMpGqjlU",
        "outputId": "34191be5-a64c-41f5-c556-e9cdb9b32cd0"
      },
      "source": [
        "#Iterating over a tuple\n",
        "print(\"Tuple Ieration\")\n",
        "t =(\"A\", \"B\", \"C\")\n",
        "for i in t:\n",
        "  print(i)"
      ],
      "execution_count": 4,
      "outputs": [
        {
          "output_type": "stream",
          "text": [
            "Tuple Ieration\n",
            "A\n",
            "B\n",
            "C\n"
          ],
          "name": "stdout"
        }
      ]
    },
    {
      "cell_type": "code",
      "metadata": {
        "colab": {
          "base_uri": "https://localhost:8080/"
        },
        "id": "_1Zg8nYVq6IJ",
        "outputId": "c3a447e6-8d4a-4c42-9cb8-666cc02d3832"
      },
      "source": [
        "#Iterating over a string\n",
        "print(\"String Iteration\")\n",
        "s= \"ABCD\"\n",
        "for i in s:\n",
        "  print(i)"
      ],
      "execution_count": 5,
      "outputs": [
        {
          "output_type": "stream",
          "text": [
            "String Iteration\n",
            "A\n",
            "B\n",
            "C\n",
            "D\n"
          ],
          "name": "stdout"
        }
      ]
    },
    {
      "cell_type": "code",
      "metadata": {
        "colab": {
          "base_uri": "https://localhost:8080/"
        },
        "id": "E2snEFW3rIb5",
        "outputId": "eab2a375-20c0-4779-c0c1-6599e8a1da7b"
      },
      "source": [
        "#Iterating over dictionary\n",
        "print(\"Dictionary Iteration\")\n",
        "d = dict()\n",
        "d['xyz'] = 123\n",
        "d['abc'] = 456\n",
        "for i in d:\n",
        "  print(\"% s % d\" %(i, d[i]))\n"
      ],
      "execution_count": 18,
      "outputs": [
        {
          "output_type": "stream",
          "text": [
            "Dictionary Iteration\n",
            "xyz  123\n",
            "abc  456\n"
          ],
          "name": "stdout"
        }
      ]
    },
    {
      "cell_type": "markdown",
      "metadata": {
        "id": "rnEW4VX-sHhb"
      },
      "source": [
        "Loop Control Statement"
      ]
    },
    {
      "cell_type": "code",
      "metadata": {
        "colab": {
          "base_uri": "https://localhost:8080/"
        },
        "id": "Yt_BWHALsK77",
        "outputId": "4424d99f-70f6-4c74-f02d-4d8522fd54dd"
      },
      "source": [
        "#Continue Statement\n",
        "# Prints all letters except 'e' and 'i'\n",
        "for letter in 'abcdefghi':\n",
        "    if letter == 'e' or letter == 'i':\n",
        "        continue\n",
        "    print('Current Letter :', letter)\n"
      ],
      "execution_count": 21,
      "outputs": [
        {
          "output_type": "stream",
          "text": [
            "Current Letter : a\n",
            "Current Letter : b\n",
            "Current Letter : c\n",
            "Current Letter : d\n",
            "Current Letter : f\n",
            "Current Letter : g\n",
            "Current Letter : h\n"
          ],
          "name": "stdout"
        }
      ]
    },
    {
      "cell_type": "code",
      "metadata": {
        "colab": {
          "base_uri": "https://localhost:8080/"
        },
        "id": "0s6UP5cGtf7Y",
        "outputId": "470ddd6e-b80d-4005-ffa4-b680df4778a0"
      },
      "source": [
        "#Break Statement :Breaks the control of the loop\n",
        "for letter in 'abcdefghi':\n",
        "    if letter == 'b' or letter == 'i':\n",
        "        break\n",
        "print('Current Letter :', letter)"
      ],
      "execution_count": 24,
      "outputs": [
        {
          "output_type": "stream",
          "text": [
            "Current Letter : b\n"
          ],
          "name": "stdout"
        }
      ]
    },
    {
      "cell_type": "code",
      "metadata": {
        "colab": {
          "base_uri": "https://localhost:8080/"
        },
        "id": "v25VsP5PuPHU",
        "outputId": "a2ff9a3e-3909-4a74-f59a-b0ee684fff54"
      },
      "source": [
        "# pass Statement: Empty loop\n",
        "for letter in 'Abcdefgh':\n",
        "  pass\n",
        "print('Last Letter: ', letter)"
      ],
      "execution_count": 25,
      "outputs": [
        {
          "output_type": "stream",
          "text": [
            "Last Letter:  h\n"
          ],
          "name": "stdout"
        }
      ]
    },
    {
      "cell_type": "markdown",
      "metadata": {
        "id": "RZObnlsLuuMr"
      },
      "source": [
        "range() function\n",
        "\n"
      ]
    },
    {
      "cell_type": "code",
      "metadata": {
        "colab": {
          "base_uri": "https://localhost:8080/"
        },
        "id": "L_CmAt69vLRg",
        "outputId": "27a666bc-70fa-4c70-9e1f-8aa107bb1d85"
      },
      "source": [
        "#Used to perform action specific numbe of times\n",
        "#printing a number\n",
        "for i in range(10):\n",
        "  print(i, end = ' ')\n",
        "print()\n",
        "\n",
        "# Using range for iteration\n",
        "l = [10, 20,30,40]\n",
        "for i in range(len(l)):\n",
        "  print(l[i], end=\" \")\n",
        "print()\n",
        "\n",
        "#performing sum of first number\n",
        "sum = 0\n",
        "for i in range(1,10):\n",
        "  sum = sum + i\n",
        "print(\"Sum of first 10 numbers :\", sum)"
      ],
      "execution_count": 32,
      "outputs": [
        {
          "output_type": "stream",
          "text": [
            "0 1 2 3 4 5 6 7 8 9 \n",
            "10 20 30 40 \n",
            "Sum of first 10 numbers : 45\n"
          ],
          "name": "stdout"
        }
      ]
    },
    {
      "cell_type": "markdown",
      "metadata": {
        "id": "0LIarx0cxZew"
      },
      "source": [
        "for-else loop"
      ]
    },
    {
      "cell_type": "code",
      "metadata": {
        "colab": {
          "base_uri": "https://localhost:8080/"
        },
        "id": "K6LdPl1oxcy9",
        "outputId": "3e1c1bb4-41bd-4488-a92d-b78e38f8e0f2"
      },
      "source": [
        "#for-else loop\n",
        "for i in range(1,4):\n",
        "  print(i)\n",
        "else:\n",
        "  print(\"No Beak\\n\")\n",
        "\n",
        "for i in range(1,4):\n",
        "  print(i)\n",
        "  break\n",
        "else:# Not executed as there is a break\n",
        "  print(\"No Beak\\n\")"
      ],
      "execution_count": 35,
      "outputs": [
        {
          "output_type": "stream",
          "text": [
            "1\n",
            "2\n",
            "3\n",
            "No Beak\n",
            "\n",
            "1\n"
          ],
          "name": "stdout"
        }
      ]
    },
    {
      "cell_type": "code",
      "metadata": {
        "colab": {
          "base_uri": "https://localhost:8080/"
        },
        "id": "EcoS4hQ9yLGc",
        "outputId": "5b23a6bc-2c39-4178-8073-44ce3e586fb2"
      },
      "source": [
        "# Program to check if a number is prime or not\n",
        "num = int(input(\"Enter a number > 1: \"))\n",
        "flag = False\n",
        "if num > 1:\n",
        "  for i in range(2,num):\n",
        "    if (num % i) == 0:\n",
        "      flag = True\n",
        "      break\n",
        "if flag:\n",
        "  print(num, \"is not a prime number\")\n",
        "else:\n",
        "  print(num, \"is prime number\")"
      ],
      "execution_count": 68,
      "outputs": [
        {
          "output_type": "stream",
          "text": [
            "Enter a number > 1: 12\n",
            "12 is not a prime number\n"
          ],
          "name": "stdout"
        }
      ]
    },
    {
      "cell_type": "code",
      "metadata": {
        "colab": {
          "base_uri": "https://localhost:8080/"
        },
        "id": "CvQ-acl6B1sm",
        "outputId": "746ca8ea-8900-4cb2-a6e6-390f17169996"
      },
      "source": [
        "# Program to check if a number is prime or not\n",
        "\n",
        "# To take input from the user\n",
        "num = int(input(\"Enter a number: \"))\n",
        "\n",
        "# prime numbers are greater than 1\n",
        "if num > 1:\n",
        "   # check for factors\n",
        "   for i in range(2,num):\n",
        "       if (num % i) == 0:\n",
        "           print(num,\"is not a prime number\")\n",
        "           print(i,\"times\",num//i,\"is\",num)\n",
        "           break\n",
        "   else:\n",
        "       print(num,\"is a prime number\")\n",
        "       \n",
        "       \n",
        "# if input number is less than\n",
        "# or equal to 1, it is not prime\n",
        "else:\n",
        "   print(num,\"is not a prime number\")"
      ],
      "execution_count": 83,
      "outputs": [
        {
          "output_type": "stream",
          "text": [
            "Enter a number: 0\n",
            "0 is not a prime number\n"
          ],
          "name": "stdout"
        }
      ]
    },
    {
      "cell_type": "code",
      "metadata": {
        "colab": {
          "base_uri": "https://localhost:8080/"
        },
        "id": "EDG8-DLX9I9A",
        "outputId": "94613e68-9211-47b7-c922-425a8bd42c79"
      },
      "source": [
        "#Python program to print all prime number in an interval\n",
        "lower = 900\n",
        "upper = 1000\n",
        "print(\"Prime number between\", lower, \"and\", upper,\"are:\")\n",
        "\n",
        "for num in range(lower, upper + 1):\n",
        "  #all prime numbers are greater than 1\n",
        "  if num > 1:\n",
        "    for i in range(2,num):\n",
        "      if (num %i)==0:\n",
        "        break\n",
        "    else:\n",
        "      print(num)"
      ],
      "execution_count": 86,
      "outputs": [
        {
          "output_type": "stream",
          "text": [
            "Prime number between 900 and 1000 are:\n",
            "907\n",
            "911\n",
            "919\n",
            "929\n",
            "937\n",
            "941\n",
            "947\n",
            "953\n",
            "967\n",
            "971\n",
            "977\n",
            "983\n",
            "991\n",
            "997\n"
          ],
          "name": "stdout"
        }
      ]
    },
    {
      "cell_type": "code",
      "metadata": {
        "colab": {
          "base_uri": "https://localhost:8080/"
        },
        "id": "XVD9upQmNloQ",
        "outputId": "92954d43-fa43-4843-ec05-12b1c0cb7f21"
      },
      "source": [
        "#Factorial of a number\n",
        "num =7\n",
        "\n",
        "factorial = 1\n",
        "if num < 0:\n",
        "  print(\"Factorial does not exist\")\n",
        "elif num ==0:\n",
        "  print(\"The factorial of 0 is 1\")\n",
        "else:\n",
        "  for i in range(1,num +1):\n",
        "    factorial = factorial * i\n",
        "  print(\"The fectorial of \",num , \"is\", factorial)"
      ],
      "execution_count": 87,
      "outputs": [
        {
          "output_type": "stream",
          "text": [
            "The fectorial of  7 is 5040\n"
          ],
          "name": "stdout"
        }
      ]
    },
    {
      "cell_type": "code",
      "metadata": {
        "colab": {
          "base_uri": "https://localhost:8080/"
        },
        "id": "gxBHp3MCOqLK",
        "outputId": "a5dfa81b-fb8f-43fb-9cbc-f22693ead4e0"
      },
      "source": [
        "#Multiplication Table\n",
        "num =12\n",
        "for i in range(1, 11):\n",
        "  print(num,\"x\",i,\"=\", num *i)"
      ],
      "execution_count": 88,
      "outputs": [
        {
          "output_type": "stream",
          "text": [
            "12 x 1 = 12\n",
            "12 x 2 = 24\n",
            "12 x 3 = 36\n",
            "12 x 4 = 48\n",
            "12 x 5 = 60\n",
            "12 x 6 = 72\n",
            "12 x 7 = 84\n",
            "12 x 8 = 96\n",
            "12 x 9 = 108\n",
            "12 x 10 = 120\n"
          ],
          "name": "stdout"
        }
      ]
    }
  ]
}
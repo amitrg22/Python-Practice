{
  "nbformat": 4,
  "nbformat_minor": 0,
  "metadata": {
    "colab": {
      "name": "Control Flow_While Loop Practice.ipynb",
      "provenance": [],
      "collapsed_sections": [],
      "authorship_tag": "ABX9TyMQTh+3cQ75x4HHCf8sVyVj",
      "include_colab_link": true
    },
    "kernelspec": {
      "name": "python3",
      "display_name": "Python 3"
    },
    "language_info": {
      "name": "python"
    }
  },
  "cells": [
    {
      "cell_type": "markdown",
      "metadata": {
        "id": "view-in-github",
        "colab_type": "text"
      },
      "source": [
        "<a href=\"https://colab.research.google.com/github/amitrg22/Python-Practice/blob/main/Control_Flow_While_Loop_Practice.ipynb\" target=\"_parent\"><img src=\"https://colab.research.google.com/assets/colab-badge.svg\" alt=\"Open In Colab\"/></a>"
      ]
    },
    {
      "cell_type": "code",
      "metadata": {
        "id": "tdZvwp9tFtWr"
      },
      "source": [
        "Syntax:\n",
        "#while expression:\n",
        "#      statement(s)\n",
        "# Falls under category of indefinite iteration\n",
        "\n"
      ],
      "execution_count": null,
      "outputs": []
    },
    {
      "cell_type": "code",
      "metadata": {
        "colab": {
          "base_uri": "https://localhost:8080/"
        },
        "id": "nBS5yC5xGKVV",
        "outputId": "c7bf6b49-fd13-4340-c4a2-1e9b6e349066"
      },
      "source": [
        "#Python program to illustrate while loop\n",
        "count = 0\n",
        "while (count < 3):\n",
        "  count =count + 1\n",
        "  print('Hello World!')\n"
      ],
      "execution_count": 1,
      "outputs": [
        {
          "output_type": "stream",
          "text": [
            "Hello World!\n",
            "Hello World!\n",
            "Hello World!\n"
          ],
          "name": "stdout"
        }
      ]
    },
    {
      "cell_type": "code",
      "metadata": {
        "colab": {
          "base_uri": "https://localhost:8080/"
        },
        "id": "jgLT96u7GaXs",
        "outputId": "03995d60-b24f-4f0c-917c-3efd24f78f98"
      },
      "source": [
        "# Check if list still contains any element\n",
        "a =[1,2,3,4]\n",
        "while a:\n",
        "  print(a.pop())"
      ],
      "execution_count": 2,
      "outputs": [
        {
          "output_type": "stream",
          "text": [
            "4\n",
            "3\n",
            "2\n",
            "1\n"
          ],
          "name": "stdout"
        }
      ]
    },
    {
      "cell_type": "code",
      "metadata": {
        "colab": {
          "base_uri": "https://localhost:8080/"
        },
        "id": "2afOD6u8G1jd",
        "outputId": "7ec058f2-a051-4c61-a75d-fd26e1cc5a57"
      },
      "source": [
        "#Single statement while block\n",
        "count =0\n",
        "while (count < 5): count +=1; print(\"Hello World!\")"
      ],
      "execution_count": 3,
      "outputs": [
        {
          "output_type": "stream",
          "text": [
            "Hello World!\n",
            "Hello World!\n",
            "Hello World!\n",
            "Hello World!\n",
            "Hello World!\n"
          ],
          "name": "stdout"
        }
      ]
    },
    {
      "cell_type": "code",
      "metadata": {
        "colab": {
          "base_uri": "https://localhost:8080/"
        },
        "id": "GWZqZ8TfHElZ",
        "outputId": "c29bbbb3-a79e-4c63-ea58-99fc2c6ab0d4"
      },
      "source": [
        "#Loop Control statement\n",
        "#Changes execution from normal sequence\n",
        "#when condition leaves the scope all auto objects are destroyed\n",
        "\n",
        "#print all letters except 'b' and 'd'\n",
        "i = 0\n",
        "a ='abcdefghi'\n",
        "\n",
        "while i < len(a):\n",
        "  if a[i] == 'b' or a[i] == 'd':\n",
        "    i+=1\n",
        "    continue\n",
        "  print('Current letter: ', a[i])\n",
        "  i+=1\n",
        "\n"
      ],
      "execution_count": 7,
      "outputs": [
        {
          "output_type": "stream",
          "text": [
            "Current letter:  a\n",
            "Current letter:  c\n",
            "Current letter:  e\n",
            "Current letter:  f\n",
            "Current letter:  g\n",
            "Current letter:  h\n",
            "Current letter:  i\n"
          ],
          "name": "stdout"
        }
      ]
    },
    {
      "cell_type": "code",
      "metadata": {
        "colab": {
          "base_uri": "https://localhost:8080/"
        },
        "id": "8YW5Ihs7IPwq",
        "outputId": "ccc4706e-13da-461f-9e15-36a254b4d763"
      },
      "source": [
        "#Break Statement\n",
        "#break the loop as soon as it sees the 'd'\n",
        "i = 0\n",
        "a ='abcdefghi'\n",
        "\n",
        "while i < len(a):\n",
        "  if a[i] == 'b' or a[i] =='d':\n",
        "    i+=1\n",
        "    break\n",
        "  print('Current Letter :' ,a[i])\n",
        "  i +=1\n"
      ],
      "execution_count": 10,
      "outputs": [
        {
          "output_type": "stream",
          "text": [
            "Current Letter : a\n"
          ],
          "name": "stdout"
        }
      ]
    },
    {
      "cell_type": "code",
      "metadata": {
        "colab": {
          "base_uri": "https://localhost:8080/"
        },
        "id": "qEliKYzHJJLY",
        "outputId": "bc9e555d-96ca-4511-d323-d8446a2d200e"
      },
      "source": [
        "#Pass statement\n",
        "#Use of pass statement is to write empty loop\n",
        "\n",
        "a='abcdefghi'\n",
        "i =0\n",
        "while i < len(a):\n",
        "  i +=1\n",
        "  pass\n",
        "print('Value of  i:',i)"
      ],
      "execution_count": 14,
      "outputs": [
        {
          "output_type": "stream",
          "text": [
            "Value of  i: 9\n"
          ],
          "name": "stdout"
        }
      ]
    },
    {
      "cell_type": "code",
      "metadata": {
        "colab": {
          "base_uri": "https://localhost:8080/"
        },
        "id": "6skQdB-uKC3n",
        "outputId": "badc0d8f-c335-41f7-c63e-ae1c90c3b6a8"
      },
      "source": [
        "# While else loop\n",
        "# Only executed when loop is not terminated by break statement\n",
        "\n",
        "i =0\n",
        "while i < 4:\n",
        "  i +=1\n",
        "  print(i)\n",
        "else:\n",
        "  print(\"No break\\n\")"
      ],
      "execution_count": 15,
      "outputs": [
        {
          "output_type": "stream",
          "text": [
            "1\n",
            "2\n",
            "3\n",
            "4\n",
            "No break\n",
            "\n"
          ],
          "name": "stdout"
        }
      ]
    },
    {
      "cell_type": "code",
      "metadata": {
        "colab": {
          "base_uri": "https://localhost:8080/"
        },
        "id": "8pyW7cdoKd6z",
        "outputId": "bedfc367-b3df-42de-f1c8-f2ab07d28df2"
      },
      "source": [
        "i =0\n",
        "while i < 4:\n",
        "  i +=1\n",
        "  print(i)\n",
        "  break\n",
        "else:\n",
        "  print(\"No break\\n\")"
      ],
      "execution_count": 16,
      "outputs": [
        {
          "output_type": "stream",
          "text": [
            "1\n"
          ],
          "name": "stdout"
        }
      ]
    },
    {
      "cell_type": "code",
      "metadata": {
        "id": "2B9GthffK_6_"
      },
      "source": [
        "# To check wheather number is armstrong number or not\n",
        "# abcd =a^n + b^n + c^n + d^n\n",
        "# Example 153"
      ],
      "execution_count": null,
      "outputs": []
    },
    {
      "cell_type": "code",
      "metadata": {
        "colab": {
          "base_uri": "https://localhost:8080/"
        },
        "id": "mN0w1LgOLXEq",
        "outputId": "976fa01d-b53a-4225-de59-6c352149e0ee"
      },
      "source": [
        "# Python program to check if the number is an Armstrong number or not\n",
        "\n",
        "# take input from the user\n",
        "num = int(input(\"Enter a number: \"))\n",
        "\n",
        "# initialize sum\n",
        "sum = 0\n",
        "\n",
        "# find the sum of the cube of each digit\n",
        "temp = num\n",
        "while temp > 0:\n",
        "   digit = temp % 10\n",
        "   sum += digit ** 3\n",
        "   temp //= 10\n",
        "\n",
        "# display the result\n",
        "if num == sum:\n",
        "   print(num,\"is an Armstrong number\")\n",
        "else:\n",
        "   print(num,\"is not an Armstrong number\")"
      ],
      "execution_count": 22,
      "outputs": [
        {
          "output_type": "stream",
          "text": [
            "Enter a number: 153545\n",
            "153545 is not an Armstrong number\n"
          ],
          "name": "stdout"
        }
      ]
    },
    {
      "cell_type": "code",
      "metadata": {
        "colab": {
          "base_uri": "https://localhost:8080/"
        },
        "id": "9F3-1RjwNdDo",
        "outputId": "76e3c6b0-2216-4cb8-d518-34dd54760aea"
      },
      "source": [
        "#Program to find armstrong number in an interval\n",
        "lower =100\n",
        "upper =2000\n",
        "\n",
        "for num in range(100, 2000+1):\n",
        "\n",
        "  #order of number\n",
        "  order =len(str(num))\n",
        "\n",
        "  #initialize sum\n",
        "  sum = 0\n",
        "\n",
        "  temp =num\n",
        "  while(temp >0):\n",
        "    digit = temp % 10\n",
        "    sum += digit ** order\n",
        "    temp //=10\n",
        "  \n",
        "  if num == sum:\n",
        "    print(num)"
      ],
      "execution_count": 24,
      "outputs": [
        {
          "output_type": "stream",
          "text": [
            "153\n",
            "370\n",
            "371\n",
            "407\n",
            "1634\n"
          ],
          "name": "stdout"
        }
      ]
    }
  ]
}